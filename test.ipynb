{
 "cells": [
  {
   "cell_type": "code",
   "id": "initial_id",
   "metadata": {
    "collapsed": true,
    "ExecuteTime": {
     "end_time": "2025-10-17T03:21:38.309679Z",
     "start_time": "2025-10-17T03:21:38.290172Z"
    }
   },
   "source": [
    "import pandas as pd\n",
    "import os\n",
    "from torch.utils.data import Dataset, DataLoader\n",
    "from PIL import Image\n",
    "from torchvision import transforms\n",
    "import torch\n",
    "class AnimalDataset(Dataset):\n",
    "    def __init__(self, img_dir, transform=None):\n",
    "        self.img_dir = img_dir\n",
    "        self.transform = transform\n",
    "        self.data = []\n",
    "\n",
    "        # 遍历文件夹下的所有图片\n",
    "        for fname in os.listdir(img_dir):\n",
    "            if fname.endswith('.jpg') or fname.endswith('.png'):\n",
    "                # 根据文件名前缀提取标签\n",
    "                if fname.startswith('cat'):\n",
    "                    label = 0\n",
    "                elif fname.startswith('dog'):\n",
    "                    label = 1\n",
    "                else:\n",
    "                    continue\n",
    "                self.data.append((fname, label))\n",
    "\n",
    "    def __getitem__(self, idx):\n",
    "        fname, label = self.data[idx] # 获取图片名和标签\n",
    "        img_path = os.path.join(self.img_dir, fname) # 构建图片路径\n",
    "        image = Image.open(img_path).convert('RGB')  # 转为RGB # 读取图片\n",
    "        if self.transform:\n",
    "            image = self.transform(image)\n",
    "        else:\n",
    "            image = transforms.Compose([\n",
    "                transforms.Resize((224, 224)),\n",
    "                transforms.ToTensor()\n",
    "            ])(image)\n",
    "        return image, label\n",
    "\n",
    "    def __len__(self):\n",
    "        return len(self.data)\n",
    "\n",
    "\n",
    "class TestDataset(Dataset):\n",
    "    def __init__(self, img_dir, csv_path, transform=None):\n",
    "        self.img_dir = img_dir\n",
    "        self.transform = transform\n",
    "\n",
    "        # 读取CSV文件\n",
    "        df = pd.read_csv(csv_path)\n",
    "        df = df.sort_values(by=\"id\")  #  按 id 排序，防止顺序乱\n",
    "        # 保存每张图片的id和label\n",
    "        self.data = [(str(row['id']) + '.jpg', int(row['label'])) for _, row in df.iterrows()]\n",
    "        print(\"样本数量:\", len(self.data))\n",
    "        print(self.data[:10])\n",
    "\n",
    "    def __getitem__(self, idx):\n",
    "        fname, label = self.data[idx]\n",
    "        img_path = os.path.join(self.img_dir, fname)\n",
    "        image = Image.open(img_path).convert('RGB')  # RGB彩色图像\n",
    "        if self.transform:\n",
    "            image = self.transform(image)\n",
    "        else:\n",
    "            image = transforms.Compose([\n",
    "                transforms.Resize((224, 224)),\n",
    "                transforms.ToTensor()\n",
    "            ])(image)\n",
    "        return image, label\n",
    "\n",
    "    def __len__(self):\n",
    "        return len(self.data)\n"
   ],
   "outputs": [],
   "execution_count": 12
  },
  {
   "metadata": {
    "ExecuteTime": {
     "end_time": "2025-10-17T03:26:27.462259Z",
     "start_time": "2025-10-17T03:25:18.347738Z"
    }
   },
   "cell_type": "code",
   "source": [
    "# 定义图像预处理\n",
    "transform = transforms.Compose([\n",
    "    transforms.Resize((224, 224)),\n",
    "    transforms.ToTensor()\n",
    "])\n",
    "device = torch.device(\"cuda:0\" if torch.cuda.is_available() else \"cpu\")\n",
    "# 加载数据集\n",
    "train_dataset = AnimalDataset('data/dog_and_cat/train', transform=transform)\n",
    "train_loader = DataLoader(train_dataset, batch_size=32, shuffle=True)\n",
    "test_dataset = TestDataset('data/dog_and_cat/test', csv_path='data/dog_and_cat/sampleSubmission.csv', transform=transform)\n",
    "test_loader = DataLoader(test_dataset, batch_size=32, shuffle=True)\n",
    "\n",
    "# # 取一批数据看看\n",
    "# images, labels = next(iter(train_loader))\n",
    "# print(images)   # torch.Size([32, 3, 28, 28])\n",
    "# print(labels[:10])\n",
    "\n",
    "# 取一批数据看看\n",
    "images, labels = next(iter(test_loader))\n",
    "# print(images)\n",
    "print(labels[:32])"
   ],
   "id": "f95dc0447629f452",
   "outputs": [
    {
     "name": "stdout",
     "output_type": "stream",
     "text": [
      "样本数量: 12500\n",
      "[('1.jpg', 0), ('2.jpg', 0), ('3.jpg', 0), ('4.jpg', 0), ('5.jpg', 0), ('6.jpg', 0), ('7.jpg', 0), ('8.jpg', 0), ('9.jpg', 0), ('10.jpg', 0)]\n",
      "tensor([0, 0, 0, 0, 0, 0, 0, 0, 0, 0, 0, 0, 0, 0, 0, 0, 0, 0, 0, 0, 0, 0, 0, 0,\n",
      "        0, 0, 0, 0, 0, 0, 0, 0, 0, 0, 0, 0, 0, 0, 0, 0, 0, 0, 0, 0, 0, 0, 0, 0,\n",
      "        0, 0, 0, 0, 0, 0, 0, 0, 0, 0, 0, 0, 0, 0, 0, 0, 0, 0, 0, 0, 0, 0, 0, 0,\n",
      "        0, 0, 0, 0, 0, 0, 0, 0, 0, 0, 0, 0, 0, 0, 0, 0, 0, 0, 0, 0, 0, 0, 0, 0,\n",
      "        0, 0, 0, 0, 0, 0, 0, 0, 0, 0, 0, 0, 0, 0, 0, 0, 0, 0, 0, 0, 0, 0, 0, 0,\n",
      "        0, 0, 0, 0, 0, 0, 0, 0, 0, 0, 0, 0, 0, 0, 0, 0, 0, 0, 0, 0, 0, 0, 0, 0,\n",
      "        0, 0, 0, 0, 0, 0, 0, 0, 0, 0, 0, 0, 0, 0, 0, 0, 0, 0, 0, 0, 0, 0, 0, 0,\n",
      "        0, 0, 0, 0, 0, 0, 0, 0, 0, 0, 0, 0, 0, 0, 0, 0, 0, 0, 0, 0, 0, 0, 0, 0,\n",
      "        0, 0, 0, 0, 0, 0, 0, 0, 0, 0, 0, 0, 0, 0, 0, 0, 0, 0, 0, 0, 0, 0, 0, 0,\n",
      "        0, 0, 0, 0, 0, 0, 0, 0, 0, 0, 0, 0, 0, 0, 0, 0, 0, 0, 0, 0, 0, 0, 0, 0,\n",
      "        0, 0, 0, 0, 0, 0, 0, 0, 0, 0, 0, 0, 0, 0, 0, 0])\n"
     ]
    }
   ],
   "execution_count": 46
  },
  {
   "metadata": {
    "ExecuteTime": {
     "end_time": "2025-10-16T13:46:35.582153Z",
     "start_time": "2025-10-16T13:44:53.030372Z"
    }
   },
   "cell_type": "code",
   "source": [
    "from matplotlib import pyplot as plt\n",
    "from utils.accuracy import evaluate_accuracy\n",
    "import torch\n",
    "from torch import nn\n",
    "from utils.init import init_weights\n",
    "from models.alexnet import AlexNet\n",
    "\n",
    "# 定义网络\n",
    "net = AlexNet()\n",
    "net.apply(init_weights)\n",
    "net.to(device)\n",
    "# 定义损失函数和优化器\n",
    "loss = nn.CrossEntropyLoss()\n",
    "optimizer = torch.optim.Adam(net.parameters(), lr=0.001)\n",
    "\n",
    "# 训练\n",
    "epochs = 10\n",
    "train_losses, train_accs, test_accs = [], [], []\n",
    "for epoch in range(1, epochs+1):\n",
    "    net.train()\n",
    "    total_loss, total_acc, total_count = 0, 0, 0\n",
    "    for X, y in train_loader:\n",
    "        X, y = X.to(device), y.to(device)\n",
    "        y_hat = net(X)\n",
    "        l = loss(y_hat, y)\n",
    "        optimizer.zero_grad()\n",
    "        l.backward()\n",
    "        optimizer.step()\n",
    "\n",
    "\n",
    "        total_loss += l.item() * y.numel()\n",
    "        total_acc += (y_hat.argmax(dim=1) == y).sum().item()\n",
    "        total_count += y.numel()\n",
    "\n",
    "    train_acc = total_acc / total_count\n",
    "    train_loss = total_loss / total_count\n",
    "    test_acc = evaluate_accuracy(net, test_loader, device)\n",
    "\n",
    "    train_losses.append(train_loss)\n",
    "    train_accs.append(train_acc)\n",
    "    test_accs.append(test_acc)\n",
    "    print(f'Epoch {epoch}, Loss {train_loss:.4f}, Acc {train_acc:.4f}, Test Acc {test_acc:.4f}')\n",
    "\n",
    "plt.figure(figsize=[12, 5])\n",
    "plt.subplot(1, 2, 1)\n",
    "plt.plot(range(1, epochs+1), train_losses, 'o-', label='Training Loss')\n",
    "plt.xlabel('Epochs')\n",
    "plt.ylabel('Loss')\n",
    "plt.title('Loss Curve')\n",
    "plt.legend()\n",
    "plt.subplot(1, 2, 2)\n",
    "plt.plot(range(1, epochs+1), train_accs, 'o-', label='Training Accuracy')\n",
    "plt.plot(range(1, epochs+1), test_accs, 'o-', label='Test Accuracy')\n",
    "plt.xlabel('Epochs')\n",
    "plt.ylabel('Accuracy')\n",
    "plt.title('Accuracy Curve')\n",
    "plt.legend()\n",
    "plt.show()\n",
    "\n"
   ],
   "id": "b91b144698294f9c",
   "outputs": [
    {
     "ename": "TypeError",
     "evalue": "evaluate_accuracy() takes 2 positional arguments but 3 were given",
     "output_type": "error",
     "traceback": [
      "\u001B[1;31m---------------------------------------------------------------------------\u001B[0m",
      "\u001B[1;31mTypeError\u001B[0m                                 Traceback (most recent call last)",
      "Cell \u001B[1;32mIn[8], line 37\u001B[0m\n\u001B[0;32m     35\u001B[0m train_acc \u001B[38;5;241m=\u001B[39m total_acc \u001B[38;5;241m/\u001B[39m total_count\n\u001B[0;32m     36\u001B[0m train_loss \u001B[38;5;241m=\u001B[39m total_loss \u001B[38;5;241m/\u001B[39m total_count\n\u001B[1;32m---> 37\u001B[0m test_acc \u001B[38;5;241m=\u001B[39m \u001B[43mevaluate_accuracy\u001B[49m\u001B[43m(\u001B[49m\u001B[43mnet\u001B[49m\u001B[43m,\u001B[49m\u001B[43m \u001B[49m\u001B[43mtest_loader\u001B[49m\u001B[43m,\u001B[49m\u001B[43m \u001B[49m\u001B[43mdevice\u001B[49m\u001B[43m)\u001B[49m\n\u001B[0;32m     39\u001B[0m train_losses\u001B[38;5;241m.\u001B[39mappend(train_loss)\n\u001B[0;32m     40\u001B[0m train_accs\u001B[38;5;241m.\u001B[39mappend(train_acc)\n",
      "\u001B[1;31mTypeError\u001B[0m: evaluate_accuracy() takes 2 positional arguments but 3 were given"
     ]
    }
   ],
   "execution_count": 8
  },
  {
   "metadata": {
    "ExecuteTime": {
     "end_time": "2025-10-17T03:20:04.005596Z",
     "start_time": "2025-10-17T03:20:03.977944Z"
    }
   },
   "cell_type": "code",
   "source": [
    "import pandas as pd\n",
    "df = pd.read_csv('data/dog_and_cat/sampleSubmission.csv')\n",
    "print(df.head(10))"
   ],
   "id": "53abdd0f85682a67",
   "outputs": [
    {
     "name": "stdout",
     "output_type": "stream",
     "text": [
      "   id  label\n",
      "0   1      0\n",
      "1   2      0\n",
      "2   3      0\n",
      "3   4      0\n",
      "4   5      0\n",
      "5   6      0\n",
      "6   7      0\n",
      "7   8      0\n",
      "8   9      0\n",
      "9  10      0\n"
     ]
    }
   ],
   "execution_count": 11
  },
  {
   "metadata": {},
   "cell_type": "code",
   "outputs": [],
   "execution_count": null,
   "source": "",
   "id": "96001e20fbfedf1"
  }
 ],
 "metadata": {
  "kernelspec": {
   "display_name": "Python 3",
   "language": "python",
   "name": "python3"
  },
  "language_info": {
   "codemirror_mode": {
    "name": "ipython",
    "version": 2
   },
   "file_extension": ".py",
   "mimetype": "text/x-python",
   "name": "python",
   "nbconvert_exporter": "python",
   "pygments_lexer": "ipython2",
   "version": "2.7.6"
  }
 },
 "nbformat": 4,
 "nbformat_minor": 5
}
